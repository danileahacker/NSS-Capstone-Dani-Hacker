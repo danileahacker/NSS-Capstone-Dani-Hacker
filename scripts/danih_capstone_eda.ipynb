{
 "cells": [
  {
   "cell_type": "markdown",
   "id": "3171d33c",
   "metadata": {},
   "source": [
    "TO DO:\n",
    "- look into migration dfs uses\n",
    "- double check work for notebook!\n",
    "- export all csvs!\n",
    "- have a lil party\n",
    "\n",
    "COMPLETED:\n",
    "- Write a read me\n",
    "- Look into mixed data type columns in birding data - will read in as str due to \"X\" in some rows\n",
    "- Look into “sensitive species” list\n",
    "- Figure out how to read in specific tabs in the xlsx files for FIA\n",
    "- Separate observation date into year columm to group by \n",
    "- Clean tables to drop extraneous columns\n",
    "- Figure out what years to restrict data\n",
    "- compile list of birds into one df\n",
    "- Merge birds table with USFWS table to get specific region & download doc off data.gov website\n",
    "- Separate birds tables into USFWS regions & not\n",
    "- create new column for seasons of birding\n",
    "- Value counts on bird species to get top 10\n",
    "- Create subset of birds in top 10 & group by year\n",
    "- Replace all USFWS with IBA\n",
    "- Read in IBA df & join with non-null IBA\n",
    "- home in on species of interest\n",
    "- Create subsets of 50-75 percentile birds\n",
    "- Get count of unique bird observer ids per year\n",
    "- Get stat for count of birds per unique bird observer id per year"
   ]
  },
  {
   "cell_type": "markdown",
   "id": "2ab6ac98",
   "metadata": {},
   "source": [
    "General notes:\n",
    "- Years to look at: 2007-2016\n",
    "- Group by Important Bird Areas (IBA)"
   ]
  },
  {
   "cell_type": "code",
   "execution_count": null,
   "id": "526a716d",
   "metadata": {},
   "outputs": [],
   "source": [
    "import pandas as pd\n",
    "import numpy as np\n",
    "import geopandas as gpd\n",
    "from shapely.geometry import Point\n",
    "# import matplotlib.pyplot as plt\n",
    "# %matplotlib inline\n",
    "# import folium"
   ]
  },
  {
   "cell_type": "code",
   "execution_count": null,
   "id": "6884dc15",
   "metadata": {},
   "outputs": [],
   "source": [
    "# reading in IBA map\n",
    "iba_map = gpd.read_file('../data/iba_map.geojson')\n",
    "iba_map = iba_map[['SITE_ID', 'SITE_NAME', 'STATE', 'LATITUDE', 'LONGITUDE', 'geometry']]\n",
    "iba_map.columns = ['iba_code', 'iba_name', 'state', 'latitude', 'longitude', 'geometry']\n",
    "iba_map = iba_map.loc[iba_map.state == 'Tennessee']\n",
    "\n",
    "# converting iba code column to int to get rid of '.0'\n",
    "iba_map = iba_map.astype({'iba_code':int})"
   ]
  },
  {
   "cell_type": "code",
   "execution_count": null,
   "id": "69d6101a",
   "metadata": {},
   "outputs": [],
   "source": [
    "# iba code & name subset\n",
    "iba_names = iba_map[['iba_code', 'iba_name']]\n",
    "iba_names.head(3)"
   ]
  },
  {
   "cell_type": "code",
   "execution_count": null,
   "id": "23f767db",
   "metadata": {},
   "outputs": [],
   "source": [
    "# reading in birds, 2007 to 2016\n",
    "birds = pd.read_csv('../data/eBird_2007_to_2016_TN/eBird_2007_to_2016_TN.txt', sep='\\t')\n",
    "\n",
    "# cleaning birds df\n",
    "birds = birds[['GLOBAL UNIQUE IDENTIFIER', 'OBSERVATION DATE', 'CATEGORY', 'COMMON NAME', 'SCIENTIFIC NAME', 'STATE', 'COUNTY', 'IBA CODE', 'USFWS CODE', 'LATITUDE', 'LONGITUDE', 'OBSERVER ID', 'TRIP COMMENTS']]\n",
    "birds.columns = ['global_unique_identifier', 'observation_date', 'category', 'common_name', 'scientific_name', 'state', 'county', 'iba_code', 'usfws_code', 'lat', 'long', 'observer_id', 'trip_comments']\n",
    "birds = birds.loc[birds.category == 'species']\n",
    "# creating additional column for observation year\n",
    "birds['observation_year'] = [x[:4] for x in birds.observation_date]\n",
    "birds = birds.astype({'observation_year':int})\n",
    "birds.shape"
   ]
  },
  {
   "cell_type": "code",
   "execution_count": null,
   "id": "f2eb39fb",
   "metadata": {},
   "outputs": [],
   "source": [
    "# reading in sensitive species list\n",
    "sensitive_species = pd.read_csv('../data/sensitive_species_2000_2020_TN.txt', sep='\\t')\n",
    "sensitive_species = sensitive_species[['GLOBAL UNIQUE IDENTIFIER', 'OBSERVATION DATE', 'CATEGORY', 'COMMON NAME', 'SCIENTIFIC NAME', 'STATE', 'COUNTY', 'IBA CODE', 'BCR CODE', 'USFWS CODE', 'LATITUDE', 'LONGITUDE', 'OBSERVER ID', 'TRIP COMMENTS']]\n",
    "sensitive_species.columns = ['global_unique_identifier', 'observation_date', 'category', 'common_name', 'scientific_name', 'state', 'county', 'iba_code', 'bcr_code', 'usfws_code', 'lat', 'long', 'observer_id', 'trip_comments']\n",
    "\n",
    "# creating additional column for observation year\n",
    "sensitive_species['observation_year'] = [x[:4] for x in sensitive_species.observation_date]\n",
    "sensitive_species = sensitive_species.astype({'observation_year':int})\n",
    "\n",
    "# restricting to relevant years\n",
    "sensitive_species = sensitive_species.loc[(sensitive_species.observation_year < 2017)&(sensitive_species.observation_year > 2006)].sort_values('observation_year').reset_index(drop=True)"
   ]
  },
  {
   "cell_type": "code",
   "execution_count": null,
   "id": "c54893e6",
   "metadata": {},
   "outputs": [],
   "source": [
    "# reading in USFWS codes\n",
    "usfws_codes = pd.read_csv('../data/eBird_2007_to_2016_TN/USFWSCodes.txt', sep='\\t')\n",
    "\n",
    "# cleaning usfws codes df\n",
    "usfws_codes = usfws_codes.reset_index()\n",
    "usfws_codes['usfws_name'] = np.where(usfws_codes['USFWS NAME'].isnull(), usfws_codes['USFWS CODE'], usfws_codes['USFWS NAME'])\n",
    "usfws_codes = usfws_codes[['index','usfws_name']]\n",
    "usfws_codes.columns = ['usfws_code', 'usfws_name']\n",
    "usfws_codes"
   ]
  },
  {
   "cell_type": "markdown",
   "id": "547b7b42",
   "metadata": {},
   "source": [
    "### Adding columns for grouping"
   ]
  },
  {
   "cell_type": "code",
   "execution_count": null,
   "id": "17b44f6a",
   "metadata": {},
   "outputs": [],
   "source": [
    "# creating seasons column: spring migration, fall migration, and offseason\n",
    "\n",
    "# creating month column\n",
    "birds['observation_month'] = [x[5:7] for x in birds.observation_date]\n",
    "birds = birds.astype({'observation_month':int})\n",
    "\n",
    "# spring: March to May\n",
    "# fall: Sept to Oct\n",
    "\n",
    "# # categorizing season based on date\n",
    "for index, row in birds.iterrows():\n",
    "    if (row['observation_month'] <= 5)&(row['observation_month'] >= 3):\n",
    "        birds.loc[index, 'season'] = 'spring migration'\n",
    "    elif (row['observation_month'] <= 10)&(row['observation_month'] >= 9):\n",
    "        birds.loc[index, 'season'] = 'fall migration'\n",
    "    else:\n",
    "        birds.loc[index, 'season'] = 'offseason'"
   ]
  },
  {
   "cell_type": "code",
   "execution_count": null,
   "id": "819bcdc9",
   "metadata": {
    "scrolled": true
   },
   "outputs": [],
   "source": [
    "birds_by_season = birds.groupby('season').count()[['global_unique_identifier']]\n",
    "birds_by_season.columns = ['count']\n",
    "birds_by_season = birds_by_season.reset_index()\n",
    "birds_by_season"
   ]
  },
  {
   "cell_type": "code",
   "execution_count": null,
   "id": "1fdce506",
   "metadata": {},
   "outputs": [],
   "source": [
    "# subset of fall & spring migration\n",
    "fall_birds = birds.loc[birds.season == 'fall migration']\n",
    "spring_birds = birds.loc[birds.season == 'spring migration']"
   ]
  },
  {
   "cell_type": "code",
   "execution_count": null,
   "id": "2595eb84",
   "metadata": {},
   "outputs": [],
   "source": [
    "# more to do with migration?"
   ]
  },
  {
   "cell_type": "markdown",
   "id": "e1f5836d",
   "metadata": {},
   "source": [
    "## Species of interest: Bald Eagle, Sandhill Crane, Baltimore Oriole, Indigo Bunting, Ruby-throated Hummingbird, Yellow Warbler, Summer Tanager"
   ]
  },
  {
   "cell_type": "code",
   "execution_count": null,
   "id": "7575730c",
   "metadata": {},
   "outputs": [],
   "source": [
    "# creating birds of interest df\n",
    "birds_of_interest = birds.loc[birds.common_name.isin(['Sandhill Crane', 'Bald Eagle', 'Baltimore Oriole', 'Indigo Bunting', 'Ruby-throated Hummingbird', 'Yellow Warbler', 'Summer Tanager'])]\n",
    "\n",
    "# creating separate count list\n",
    "birds_of_interest_count = birds_of_interest.groupby(['observation_year', 'common_name']).count()[['global_unique_identifier']].reset_index()\n",
    "birds_of_interest_count.columns = ['observation_year', 'common_name', 'count']\n",
    "\n",
    "# adding total count per year as a column\n",
    "total_birds =  birds_of_interest_count.groupby('observation_year').sum()[['count']].reset_index()\n",
    "total_birds.columns=['observation_year', 'total_count_by_year']\n",
    "\n",
    "# merging back\n",
    "birds_of_interest_count = pd.merge(birds_of_interest_count, total_birds, on='observation_year', how='inner')\n",
    "\n",
    "# adding perc column\n",
    "birds_of_interest_count['perc_total_sightings'] = round(birds_of_interest_count['count']/birds_of_interest_count.total_count_by_year*100,2)\n",
    "\n",
    "# total_birds\n",
    "birds_of_interest_count"
   ]
  },
  {
   "cell_type": "code",
   "execution_count": null,
   "id": "e123d68d",
   "metadata": {},
   "outputs": [],
   "source": [
    "# creating geometry column for birds of interest\n",
    "birds_of_interest['geometry'] = birds_of_interest.apply(lambda x: Point((float(x.long),\n",
    "                                                                  float(x.lat))),\n",
    "                                                 axis=1)\n",
    "birds_of_interest"
   ]
  },
  {
   "cell_type": "markdown",
   "id": "9b615839",
   "metadata": {},
   "source": [
    "## Davidson County birds (downtown Nashville)"
   ]
  },
  {
   "cell_type": "code",
   "execution_count": null,
   "id": "78fc5184",
   "metadata": {},
   "outputs": [],
   "source": [
    "# interested in 50-75 percentile\n",
    "nashville_birds = birds.loc[birds.county == 'Davidson']\n",
    "nashville_birds_count = nashville_birds.common_name.value_counts().reset_index()\n",
    "nashville_birds_count = nashville_birds_count.loc[(nashville_birds_count['count']>33)&(nashville_birds_count['count']<120)]\n",
    "\n",
    "# creating list of populations of focus\n",
    "nashville_birds_list = nashville_birds_count.common_name.to_list()\n",
    "\n",
    "# saving back to nashville birds\n",
    "nashville_birds = nashville_birds.loc[nashville_birds.common_name.isin(nashville_birds_list)]\n",
    "\n",
    "# grouping by year & common name for count\n",
    "nash_birds_count = nashville_birds.groupby(['observation_year', 'common_name']).count()[['global_unique_identifier']].reset_index()\n",
    "nash_birds_count.columns = ['observation_year', 'common_name', 'count']\n",
    "\n",
    "# adding geometry column for all nash bird sightings\n",
    "nashville_birds['geometry'] = nashville_birds.apply(lambda x: Point((float(x.long),\n",
    "                                                                  float(x.lat))),\n",
    "                                                 axis=1)"
   ]
  },
  {
   "cell_type": "code",
   "execution_count": null,
   "id": "a16cae04",
   "metadata": {},
   "outputs": [],
   "source": [
    "nashville_birds_count.describe()"
   ]
  },
  {
   "cell_type": "markdown",
   "id": "56dce99c",
   "metadata": {},
   "source": [
    "## IBA"
   ]
  },
  {
   "cell_type": "code",
   "execution_count": null,
   "id": "154fc022",
   "metadata": {},
   "outputs": [],
   "source": [
    "# creating subset of birds sighted within IBAs\n",
    "iba_birds = birds.loc[~birds.iba_code.isna()]\n",
    "iba_birds['iba_code'] = [x[6:10] for x in iba_birds.iba_code]\n",
    "iba_birds = iba_birds.astype({'iba_code':int})\n",
    "iba_birds = pd.merge(iba_birds, iba_names, on='iba_code', how='left')\n",
    "iba_birds = iba_birds[['global_unique_identifier', 'observation_date', 'category', 'common_name', 'scientific_name', 'state', 'county', 'iba_code', 'lat', 'long', 'observer_id', 'trip_comments', 'observation_year', 'iba_name']]\n",
    "iba_birds.head(3)"
   ]
  },
  {
   "cell_type": "code",
   "execution_count": null,
   "id": "589e80c8",
   "metadata": {},
   "outputs": [],
   "source": [
    "# creating separate list of sightings outside of IBA regions\n",
    "birds_outside_iba = birds.loc[birds.iba_code.isna()]\n",
    "birds_outside_iba.drop(columns=['usfws_code', 'iba_code'])\n",
    "birds_outside_iba['within_iba'] = False\n",
    "birds_outside_iba = birds_outside_iba[['global_unique_identifier', 'observation_date', 'category', 'common_name', 'scientific_name', 'state', 'county', 'lat', 'long', 'observer_id', 'trip_comments', 'observation_year', 'within_iba']]\n",
    "\n",
    "birds_outside_iba.head()"
   ]
  },
  {
   "cell_type": "markdown",
   "id": "d93d6d64",
   "metadata": {},
   "source": [
    "## USFWS"
   ]
  },
  {
   "cell_type": "code",
   "execution_count": null,
   "id": "72f5c2ec",
   "metadata": {},
   "outputs": [],
   "source": [
    "# creating subset of birds sighted within usfws polygon:\n",
    "birds_usfws = birds.loc[~birds.usfws_code.isna()]\n",
    "\n",
    "# joining birds_usfws with usfws codes\n",
    "birds_usfws = pd.merge(birds_usfws, usfws_codes, on='usfws_code', how='left')\n",
    "\n",
    "birds_usfws.head(3)"
   ]
  },
  {
   "cell_type": "code",
   "execution_count": null,
   "id": "e17c8447",
   "metadata": {},
   "outputs": [],
   "source": [
    "# creating separate list of sightings outside of USFWS regions\n",
    "birds_outside_usfws = birds.loc[birds.usfws_code.isna()]\n",
    "birds_outside_usfws.drop(columns=['usfws_code', 'iba_code'])\n",
    "birds_outside_usfws['within_park'] = False\n",
    "\n",
    "birds_outside_usfws.head()"
   ]
  },
  {
   "cell_type": "markdown",
   "id": "2646a4ab",
   "metadata": {},
   "source": [
    "## EDA"
   ]
  },
  {
   "cell_type": "markdown",
   "id": "519de9db",
   "metadata": {},
   "source": [
    "## Top 10 lists"
   ]
  },
  {
   "cell_type": "markdown",
   "id": "9611e2ba",
   "metadata": {},
   "source": [
    "#### with IBA code"
   ]
  },
  {
   "cell_type": "code",
   "execution_count": null,
   "id": "fbdb43ae",
   "metadata": {},
   "outputs": [],
   "source": [
    "# creating subset called outside iba top 10, grouping by year & common name\n",
    "outside_iba_top10 = birds_outside_iba.loc[birds_outside_iba.common_name.isin(['Northern Cardinal', 'American Crow', 'Carolina Chickadee', 'Blue Jay', 'Carolina Wren', 'Tufted Titmouse', 'Mourning Dove', 'American Robin', 'Red-bellied Woodpecker', 'Northern Mockingbird'])]\n",
    "outside_iba_top10 = outside_iba_top10.groupby(['observation_year', 'common_name']).count()[['global_unique_identifier']].reset_index()\n",
    "outside_iba_top10.columns = ['observation_year', 'common_name', 'count']\n",
    "\n",
    "# adding total count per year as a column\n",
    "total_birds = outside_iba_top10.groupby('observation_year').sum()[['count']]\n",
    "total_birds = total_birds.reset_index()\n",
    "total_birds.columns=['observation_year', 'total_count_by_year']\n",
    "# merging back\n",
    "outside_iba_top10 = pd.merge(outside_iba_top10, total_birds, on='observation_year', how='inner')\n",
    "\n",
    "# adding perc column\n",
    "outside_iba_top10['perc_total_sightings'] = round(outside_iba_top10['count']/outside_iba_top10.total_count_by_year*100,2)\n",
    "\n",
    "outside_iba_top10"
   ]
  },
  {
   "cell_type": "code",
   "execution_count": null,
   "id": "639c26b4",
   "metadata": {},
   "outputs": [],
   "source": [
    "# creating subset called outside iba next top 10, grouping by year & common name\n",
    "outside_iba_next_top10 = birds_outside_iba.loc[birds_outside_iba.common_name.isin(['American Goldfinch', 'Downy Woodpecker', 'Eastern Towhee', 'European Starling', 'Eastern Bluebird', 'Song Sparrow', 'Canada Goose', 'Great Blue Heron', 'House Finch', 'White-breasted Nuthatch'])]\n",
    "outside_iba_next_top10 = outside_iba_next_top10.groupby(['observation_year', 'common_name']).count()[['global_unique_identifier']].reset_index()\n",
    "outside_iba_next_top10.columns = ['observation_year', 'common_name', 'count']\n",
    "\n",
    "# adding total count per year as a column\n",
    "total_birds = outside_iba_next_top10.groupby('observation_year').sum()[['count']]\n",
    "total_birds = total_birds.reset_index()\n",
    "total_birds.columns=['observation_year', 'total_count_by_year']\n",
    "# merging back\n",
    "outside_iba_next_top10 = pd.merge(outside_iba_next_top10, total_birds, on='observation_year', how='inner')\n",
    "\n",
    "# adding perc column\n",
    "outside_iba_next_top10['perc_total_sightings'] = round(outside_iba_next_top10['count']/outside_iba_next_top10.total_count_by_year*100,2)\n",
    "\n",
    "outside_iba_next_top10"
   ]
  },
  {
   "cell_type": "code",
   "execution_count": null,
   "id": "06178d40",
   "metadata": {},
   "outputs": [],
   "source": [
    "# creating subset called iba top 10, grouping by year & common name\n",
    "iba_top10 = iba_birds.loc[iba_birds.common_name.isin(['Great Blue Heron', 'American Crow', 'Northern Cardinal', 'Downy Woodpecker', 'American Robin', 'Carolina Wren', 'Carolina Chickadee', 'Red-bellied Woodpecker', 'Blue Jay', 'Tufted Titmouse'])]\n",
    "iba_top10 = iba_top10.groupby(['observation_year', 'common_name']).count()[['global_unique_identifier']].reset_index()\n",
    "iba_top10.columns = ['observation_year', 'common_name', 'count']\n",
    "\n",
    "# adding total count per year as a column\n",
    "total_birds = iba_top10.groupby('observation_year').sum()[['count']]\n",
    "total_birds = total_birds.reset_index()\n",
    "total_birds.columns=['observation_year', 'total_count_by_year']\n",
    "# merging back\n",
    "iba_top10 = pd.merge(iba_top10, total_birds, on='observation_year', how='inner')\n",
    "\n",
    "# adding perc column\n",
    "iba_top10['perc_total_sightings'] = round(iba_top10['count']/iba_top10.total_count_by_year*100,2)\n",
    "\n",
    "iba_top10"
   ]
  },
  {
   "cell_type": "code",
   "execution_count": null,
   "id": "1e7c7f5c",
   "metadata": {},
   "outputs": [],
   "source": [
    "# creating subset called iba next top 10 (11-20), grouping by year & common name\n",
    "iba_next_top10 = iba_birds.loc[iba_birds.common_name.isin(['Pileated Woodpecker', 'Canada Goose', 'American Goldfinch', 'Mourning Dove', 'Eastern Towhee', 'Eastern Bluebird', 'White-breasted Nuthatch', 'Mallard', 'Indigo Bunting', 'Red-eyed Vireo'])]\n",
    "iba_next_top10 = iba_next_top10.groupby(['observation_year', 'common_name']).count()[['global_unique_identifier']].reset_index()\n",
    "iba_next_top10.columns = ['observation_year', 'common_name', 'count']\n",
    "\n",
    "# adding total count per year as a column\n",
    "total_birds = iba_next_top10.groupby('observation_year').sum()[['count']]\n",
    "total_birds = total_birds.reset_index()\n",
    "total_birds.columns=['observation_year', 'total_count_by_year']\n",
    "# merging back\n",
    "iba_next_top10 = pd.merge(iba_next_top10, total_birds, on='observation_year', how='inner')\n",
    "\n",
    "# adding perc column\n",
    "iba_next_top10['perc_total_sightings'] = round(iba_next_top10['count']/iba_next_top10.total_count_by_year*100,2)\n",
    "iba_next_top10"
   ]
  },
  {
   "cell_type": "markdown",
   "id": "debb62a7",
   "metadata": {},
   "source": [
    "#### list of iba birds for map"
   ]
  },
  {
   "cell_type": "code",
   "execution_count": null,
   "id": "2c215f05",
   "metadata": {
    "scrolled": false
   },
   "outputs": [],
   "source": [
    "# creating subsets of iba birds with all sightings of top 10\n",
    "\n",
    "iba_top10_list = iba_birds.loc[iba_birds.common_name.isin(['Great Blue Heron', 'American Crow', 'Northern Cardinal', 'Downy Woodpecker', 'American Robin', 'Carolina Wren', 'Carolina Chickadee', 'Red-bellied Woodpecker', 'Blue Jay', 'Tufted Titmouse'])]\n",
    "iba_top10_list['geometry'] = iba_top10_list.apply(lambda x: Point((float(x.long),\n",
    "                                                                  float(x.lat))),\n",
    "                                                 axis=1)\n",
    "\n",
    "# creating subsets of iba birds with all sightings of next top 10\n",
    "\n",
    "iba_next_top10_list = iba_birds.loc[iba_birds.common_name.isin(['Pileated Woodpecker', 'Canada Goose', 'American Goldfinch', 'Mourning Dove', 'Eastern Towhee', 'Eastern Bluebird', 'White-breasted Nuthatch', 'Mallard', 'Indigo Bunting', 'Red-eyed Vireo'])]\n",
    "iba_next_top10_list['geometry'] = iba_next_top10_list.apply(lambda x: Point((float(x.long),\n",
    "                                                                  float(x.lat))),\n",
    "                                                 axis=1)\n",
    "# joining two dfs into top 20 list\n",
    "iba_top20 = pd.concat([iba_top10_list, iba_next_top10_list])"
   ]
  },
  {
   "cell_type": "markdown",
   "id": "aa6f5f9f",
   "metadata": {},
   "source": [
    "#### list of birds outside iba for map"
   ]
  },
  {
   "cell_type": "code",
   "execution_count": null,
   "id": "4ce47643",
   "metadata": {},
   "outputs": [],
   "source": [
    "# creating subsets of outside iba birds with all sightings of top 10\n",
    "\n",
    "outside_iba_top10_list = birds_outside_iba.loc[birds_outside_iba.common_name.isin(['Northern Cardinal', 'American Crow', 'Carolina Chickadee', 'Blue Jay', 'Carolina Wren', 'Tufted Titmouse', 'Mourning Dove', 'American Robin', 'Red-bellied Woodpecker', 'Northern Mockingbird'])]\n",
    "outside_iba_top10_list['geometry'] = outside_iba_top10_list.apply(lambda x: Point((float(x.long),\n",
    "                                                                  float(x.lat))),\n",
    "                                                 axis=1)\n",
    "\n",
    "# creating subsets of outside iba birds with all sightings of next top 10\n",
    "\n",
    "outside_iba_next_top10_list = birds_outside_iba.loc[birds_outside_iba.common_name.isin(['American Goldfinch', 'Downy Woodpecker', 'Eastern Towhee', 'European Starling', 'Eastern Bluebird', 'Song Sparrow', 'Canada Goose', 'Great Blue Heron', 'House Finch', 'White-breasted Nuthatch'])]\n",
    "outside_iba_next_top10_list['geometry'] = outside_iba_next_top10_list.apply(lambda x: Point((float(x.long),\n",
    "                                                                  float(x.lat))),\n",
    "                                                 axis=1)\n",
    "\n",
    "# joining two dfs into top 20 list\n",
    "outside_iba_top20 = pd.concat([outside_iba_top10_list, outside_iba_next_top10_list])"
   ]
  },
  {
   "cell_type": "markdown",
   "id": "ecd8bda0",
   "metadata": {},
   "source": [
    "#### with USFWS code"
   ]
  },
  {
   "cell_type": "code",
   "execution_count": null,
   "id": "0b47e4cc",
   "metadata": {},
   "outputs": [],
   "source": [
    "# # creating subset called outside usfws top 10, grouping by year & common name\n",
    "# outside_usfws_top10 = birds_outside_usfws.loc[birds_outside_usfws.common_name.isin(['Northern Cardinal', 'American Crow', 'Carolina Chickadee', 'Blue Jay', 'Carolina Wren', 'Tufted Titmouse', 'Mourning Dove', 'American Robin', 'Red-bellied Woodpecker', 'Northern Mockingbird'])]\n",
    "# outside_usfws_top10 = outside_usfws_top10.groupby(['observation_year', 'common_name']).count()[['global_unique_identifier']].reset_index()\n",
    "# outside_usfws_top10.columns = ['observation_year', 'common_name', 'count']\n",
    "\n",
    "# # adding total count per year as a column\n",
    "# total_birds = outside_usfws_top10.groupby('observation_year').sum()[['count']]\n",
    "# total_birds = total_birds.reset_index()\n",
    "# total_birds.columns=['observation_year', 'total_count_by_year']\n",
    "# # merging back\n",
    "# outside_usfws_top10 = pd.merge(outside_usfws_top10, total_birds, on='observation_year', how='inner')\n",
    "\n",
    "# # adding perc column\n",
    "# outside_usfws_top10['perc_total_sightings'] = round(outside_usfws_top10['count']/outside_usfws_top10.total_count_by_year*100,2)\n",
    "\n",
    "# outside_usfws_top10\n",
    "# # .loc[outside_usfws_top10.common_name == 'Northern Mockingbird']"
   ]
  },
  {
   "cell_type": "code",
   "execution_count": null,
   "id": "32d1ddf1",
   "metadata": {},
   "outputs": [],
   "source": [
    "# # creating subset called outside usfws next top 10, grouping by year & common name\n",
    "# outside_usfws_next_top10 = birds_outside_usfws.loc[birds_outside_usfws.common_name.isin(['American Goldfinch', 'Downy Woodpecker', 'Eastern Towhee', 'European Starling', 'Eastern Bluebird', 'Song Sparrow', 'Canada Goose', 'Great Blue Heron', 'House Finch', 'White-breasted Nuthatch'])]\n",
    "# outside_usfws_next_top10 = outside_usfws_next_top10.groupby(['observation_year', 'common_name']).count()[['global_unique_identifier']].reset_index()\n",
    "# outside_usfws_next_top10.columns = ['observation_year', 'common_name', 'count']\n",
    "\n",
    "# # adding total count per year as a column\n",
    "# total_birds = outside_usfws_next_top10.groupby('observation_year').sum()[['count']]\n",
    "# total_birds = total_birds.reset_index()\n",
    "# total_birds.columns=['observation_year', 'total_count_by_year']\n",
    "# # merging back\n",
    "# outside_usfws_next_top10 = pd.merge(outside_usfws_next_top10, total_birds, on='observation_year', how='inner')\n",
    "\n",
    "# # adding perc column\n",
    "# outside_usfws_next_top10['perc_total_sightings'] = round(outside_usfws_next_top10['count']/outside_usfws_next_top10.total_count_by_year*100,2)\n",
    "\n",
    "# outside_usfws_next_top10"
   ]
  },
  {
   "cell_type": "code",
   "execution_count": null,
   "id": "933eca2a",
   "metadata": {},
   "outputs": [],
   "source": [
    "# # creating subset called usfws top 10, grouping by year & common name\n",
    "# usfws_top10 = birds_usfws.loc[birds_usfws.common_name.isin(['Great Blue Heron', 'American Crow', 'Northern Cardinal', 'Killdeer', 'Canada Goose', 'Carolina Wren', 'Mallard', 'Red-bellied Woodpecker', 'Bald Eagle', 'Tufted Titmouse'])]\n",
    "# usfws_top10 = usfws_top10.groupby(['observation_year', 'common_name']).count()[['global_unique_identifier']].reset_index()\n",
    "# usfws_top10.columns = ['observation_year', 'common_name', 'count']\n",
    "\n",
    "# # adding total count per year as a column\n",
    "# total_birds = usfws_top10.groupby('observation_year').sum()[['count']]\n",
    "# total_birds = total_birds.reset_index()\n",
    "# total_birds.columns=['observation_year', 'total_count_by_year']\n",
    "# # merging back\n",
    "# usfws_top10 = pd.merge(usfws_top10, total_birds, on='observation_year', how='inner')\n",
    "\n",
    "# # adding perc column\n",
    "# usfws_top10['perc_total_sightings'] = round(usfws_top10['count']/usfws_top10.total_count_by_year*100,2)\n",
    "\n",
    "# usfws_top10"
   ]
  },
  {
   "cell_type": "code",
   "execution_count": null,
   "id": "aa67220c",
   "metadata": {},
   "outputs": [],
   "source": [
    "# # creating subset called usfws next top 10 (11-20), grouping by year & common name\n",
    "# usfws_next_top10 = birds_usfws.loc[birds_usfws.common_name.isin(['Turkey Vulture', 'Double-crested Cormorant', 'Blue Jay', 'Ring-billed Gull', 'Carolina Chickadee', 'Red-winged Blackbird', 'Eastern Bluebird', 'Pied-billed Grebe', 'Great Egret', 'Mourning Dove'])]\n",
    "# usfws_next_top10 = usfws_next_top10.groupby(['observation_year', 'common_name']).count()[['global_unique_identifier']].reset_index()\n",
    "# usfws_next_top10.columns = ['observation_year', 'common_name', 'count']\n",
    "\n",
    "# # adding total count per year as a column\n",
    "# total_birds = usfws_next_top10.groupby('observation_year').sum()[['count']]\n",
    "# total_birds = total_birds.reset_index()\n",
    "# total_birds.columns=['observation_year', 'total_count_by_year']\n",
    "# # merging back\n",
    "# usfws_next_top10 = pd.merge(usfws_next_top10, total_birds, on='observation_year', how='inner')\n",
    "\n",
    "# # adding perc column\n",
    "# usfws_next_top10['perc_total_sightings'] = round(usfws_next_top10['count']/usfws_next_top10.total_count_by_year*100,2)\n",
    "# usfws_next_top10"
   ]
  },
  {
   "cell_type": "markdown",
   "id": "9b127bf0",
   "metadata": {},
   "source": [
    "### Unique observer id count"
   ]
  },
  {
   "cell_type": "code",
   "execution_count": null,
   "id": "98a85adb",
   "metadata": {},
   "outputs": [],
   "source": [
    "# total number of unique birders 2007-2016\n",
    "len(birds.observer_id.unique())"
   ]
  },
  {
   "cell_type": "code",
   "execution_count": null,
   "id": "fdd59bef",
   "metadata": {},
   "outputs": [],
   "source": [
    "# for all birds\n",
    "\n",
    "# count of unique birders per year\n",
    "birders_per_year = birds.groupby('observation_year')['observer_id'].unique().reset_index()\n",
    "birders_per_year['count_birders'] = birders_per_year['observer_id'].str.len()\n",
    "\n",
    "# getting count of sightings per year\n",
    "birds_per_year = birds.groupby('observation_year').count()[['global_unique_identifier']].reset_index()\n",
    "birds_per_year.columns = ['observation_year', 'count_birds']\n",
    "birds_and_birders = pd.merge(birders_per_year, birds_per_year, on='observation_year', how='inner')\n",
    "birds_and_birders['birds_per_birder'] = round(birds_and_birders.count_birds/birds_and_birders.count_birders,2)\n",
    "birds_and_birders = birds_and_birders[['observation_year', 'count_birders', 'count_birds', 'birds_per_birder']]\n",
    "birds_and_birders.head()"
   ]
  },
  {
   "cell_type": "code",
   "execution_count": null,
   "id": "64e26eeb",
   "metadata": {},
   "outputs": [],
   "source": [
    "birds_and_birders.to_csv('birds_per_birder.csv')"
   ]
  },
  {
   "cell_type": "code",
   "execution_count": null,
   "id": "7d0b823e",
   "metadata": {},
   "outputs": [],
   "source": [
    "# for IBA birds\n",
    "\n",
    "# count of unique birders per year\n",
    "birders_per_year = iba_birds.groupby('observation_year')['observer_id'].unique().reset_index()\n",
    "birders_per_year['count_birders'] = birders_per_year['observer_id'].str.len()\n",
    "\n",
    "# getting count of sightings per year\n",
    "birds_per_year = iba_birds.groupby('observation_year').count()[['global_unique_identifier']].reset_index()\n",
    "birds_per_year.columns = ['observation_year', 'count_birds']\n",
    "birds_and_birders = pd.merge(birders_per_year, birds_per_year, on='observation_year', how='inner')\n",
    "birds_and_birders['birds_per_birder'] = round(birds_and_birders.count_birds/birds_and_birders.count_birders,2)\n",
    "iba_birds_and_birders = birds_and_birders[['observation_year', 'count_birders', 'count_birds', 'birds_per_birder']]\n",
    "iba_birds_and_birders"
   ]
  },
  {
   "cell_type": "code",
   "execution_count": null,
   "id": "7c929e30",
   "metadata": {},
   "outputs": [],
   "source": [
    "# for all nashville birds (no restriction)\n",
    "\n",
    "all_nashville_birds = birds.loc[birds.county == 'Davidson']\n",
    "\n",
    "# count of unique birders per year\n",
    "birders_per_year = all_nashville_birds.groupby('observation_year')['observer_id'].unique().reset_index()\n",
    "birders_per_year['count_birders'] = birders_per_year['observer_id'].str.len()\n",
    "\n",
    "# getting count of sightings per year\n",
    "birds_per_year = all_nashville_birds.groupby('observation_year').count()[['global_unique_identifier']].reset_index()\n",
    "birds_per_year.columns = ['observation_year', 'count_birds']\n",
    "birds_and_birders = pd.merge(birders_per_year, birds_per_year, on='observation_year', how='inner')\n",
    "birds_and_birders['birds_per_birder'] = round(birds_and_birders.count_birds/birds_and_birders.count_birders,2)\n",
    "all_nash_birds_and_birders = birds_and_birders[['observation_year', 'count_birders', 'count_birds', 'birds_per_birder']]\n",
    "all_nash_birds_and_birders"
   ]
  },
  {
   "cell_type": "code",
   "execution_count": null,
   "id": "d9beeba3",
   "metadata": {},
   "outputs": [],
   "source": [
    "# for nashville birds (restricted to 3rd quartile)\n",
    "\n",
    "# count of unique birders per year\n",
    "birders_per_year = nashville_birds.groupby('observation_year')['observer_id'].unique().reset_index()\n",
    "birders_per_year['count_birders'] = birders_per_year['observer_id'].str.len()\n",
    "\n",
    "# getting count of sightings per year\n",
    "birds_per_year = nashville_birds.groupby('observation_year').count()[['global_unique_identifier']].reset_index()\n",
    "birds_per_year.columns = ['observation_year', 'count_birds']\n",
    "birds_and_birders = pd.merge(birders_per_year, birds_per_year, on='observation_year', how='inner')\n",
    "birds_and_birders['birds_per_birder'] = round(birds_and_birders.count_birds/birds_and_birders.count_birders,2)\n",
    "nash_birds_and_birders = birds_and_birders[['observation_year', 'count_birders', 'count_birds', 'birds_per_birder']]\n",
    "nash_birds_and_birders"
   ]
  },
  {
   "cell_type": "markdown",
   "id": "90312bb3",
   "metadata": {},
   "source": [
    "#### list of sensitive species for map"
   ]
  },
  {
   "cell_type": "code",
   "execution_count": null,
   "id": "7a6265e4",
   "metadata": {},
   "outputs": [],
   "source": [
    "sensitive_species['geometry'] = sensitive_species.apply(lambda x: Point((float(x.long),\n",
    "                                                                  float(x.lat))),\n",
    "                                                 axis=1)"
   ]
  },
  {
   "cell_type": "markdown",
   "id": "689ac7ca",
   "metadata": {},
   "source": [
    "## Export CSVs:"
   ]
  },
  {
   "cell_type": "code",
   "execution_count": null,
   "id": "0df8bad8",
   "metadata": {},
   "outputs": [],
   "source": [
    "## TOP 10 LISTS/COUNTS\n",
    "\n",
    "# iba top 10\n",
    "iba_top10.to_csv('iba_top10.csv')\n",
    "\n",
    "# iba next top 10\n",
    "iba_next_top10.to_csv('iba_next_top10.csv')\n",
    "\n",
    "# outside iba top 10\n",
    "outside_iba_top10.to_csv('outside_iba_top10.csv')\n",
    "\n",
    "# outside iba next top 10\n",
    "outside_iba_next_top10.to_csv('outside_iba_next_top10.csv')\n",
    "\n",
    "# nash birds count\n",
    "nash_birds_count.to_csv('nash_birds_count.csv')\n",
    "\n",
    "# birds of interest count\n",
    "birds_of_interest_count.to_csv('birds_of_interest_count.csv')\n",
    "\n",
    "## MISC\n",
    "\n",
    "# birds by season\n",
    "birds_by_season.to_csv('birds_by_season.csv')\n",
    "\n",
    "# birds per birder\n",
    "birds_and_birders.to_csv('birds_per_birder.csv')\n",
    "\n",
    "# iba birds per birder\n",
    "iba_birds_and_birders.to_csv('iba_birds_per_birder.csv')\n",
    "\n",
    "# restricted nashville birds per birder\n",
    "nash_birds_and_birders.to_csv('res_nash_birds_per_birder.csv')\n",
    "\n",
    "# all nashville birds per birder\n",
    "all_nash_birds_and_birders.to_csv('all_nash_birds_per_birder.csv')\n",
    "\n",
    "# MAPS\n",
    "\n",
    "# iba top 20 for map\n",
    "iba_top20.to_csv('iba_top20_map.csv')\n",
    "\n",
    "# outside iba top 20 for map\n",
    "outside_iba_top20.to_csv('outside_iba_top20_map.csv')\n",
    "\n",
    "# birds of interest for map\n",
    "birds_of_interest.to_csv('birds_of_interest_map.csv')\n",
    "\n",
    "# sensitive species list for map\n",
    "sensitive_species.to_csv('sensitive_species_map.csv')\n",
    "\n",
    "# nashville birds for map\n",
    "nashville_birds.to_csv('nashville_birds_map.csv')"
   ]
  },
  {
   "cell_type": "markdown",
   "id": "09f11344",
   "metadata": {},
   "source": [
    "### attempting webscraping:\n",
    "\n",
    "come back to later"
   ]
  },
  {
   "cell_type": "code",
   "execution_count": null,
   "id": "f0bacd26",
   "metadata": {},
   "outputs": [],
   "source": [
    "# come back to later!!\n",
    "# download Selenium webdriver"
   ]
  },
  {
   "cell_type": "code",
   "execution_count": null,
   "id": "ca89a4ad",
   "metadata": {},
   "outputs": [],
   "source": [
    "# # importing beautiful soup\n",
    "# import requests\n",
    "# from bs4 import BeautifulSoup as BS"
   ]
  },
  {
   "cell_type": "code",
   "execution_count": null,
   "id": "b4560dc3",
   "metadata": {},
   "outputs": [],
   "source": [
    "# # establishing connection\n",
    "# URL = 'https://www.fws.gov/refuge/tennessee/map'\n",
    "# response = requests.get(URL)"
   ]
  },
  {
   "cell_type": "code",
   "execution_count": null,
   "id": "840d7d35",
   "metadata": {},
   "outputs": [],
   "source": [
    "# # checking connection\n",
    "# response.status_code"
   ]
  },
  {
   "cell_type": "code",
   "execution_count": null,
   "id": "c9377ea1",
   "metadata": {},
   "outputs": [],
   "source": [
    "# soup = BS(response.text)"
   ]
  },
  {
   "cell_type": "code",
   "execution_count": null,
   "id": "6318621b",
   "metadata": {},
   "outputs": [],
   "source": [
    "# soup.findAll('path', attrs={'class':'leaflet-interactive'})"
   ]
  }
 ],
 "metadata": {
  "kernelspec": {
   "display_name": "Python 3 (ipykernel)",
   "language": "python",
   "name": "python3"
  },
  "language_info": {
   "codemirror_mode": {
    "name": "ipython",
    "version": 3
   },
   "file_extension": ".py",
   "mimetype": "text/x-python",
   "name": "python",
   "nbconvert_exporter": "python",
   "pygments_lexer": "ipython3",
   "version": "3.8.5"
  }
 },
 "nbformat": 4,
 "nbformat_minor": 5
}
